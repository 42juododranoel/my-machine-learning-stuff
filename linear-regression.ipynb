{
 "cells": [
  {
   "cell_type": "code",
   "execution_count": 30,
   "metadata": {
    "scrolled": false
   },
   "outputs": [
    {
     "data": {
      "image/png": "[encoded data removed]",
      "text/plain": [
       "<Figure size 432x288 with 2 Axes>"
      ]
     },
     "metadata": {
      "needs_background": "light"
     },
     "output_type": "display_data"
    }
   ],
   "source": [
    "import numpy\n",
    "from matplotlib import pyplot\n",
    "\n",
    "\"\"\"\n",
    "n → number of rows in training set\n",
    "h → hypothesis function\n",
    "se → square error\n",
    "cf → cost function\n",
    "t1, t2 → theta one and two\n",
    "xs → x values\n",
    "ys → y values\n",
    "hxs → h(x) values\n",
    "\"\"\"\n",
    "\n",
    "    \n",
    "def get_axes(n, dispersion):\n",
    "    xs = numpy.arange(n)\n",
    "    deltas = numpy.random.uniform(0, dispersion, size=[n])\n",
    "    ys = xs + deltas\n",
    "    return xs, ys\n",
    "\n",
    "\n",
    "def plot_axes(xs, ys, hxs, line, title, subplot_i):\n",
    "    pyplot.subplot(1, 2, subplot_i)\n",
    "    pyplot.scatter(xs, ys)\n",
    "    pyplot.plot(xs, hxs, line)\n",
    "    pyplot.title(title)\n",
    "\n",
    "    \n",
    "def numpy_implementation(xs, ys):\n",
    "    coefficients = numpy.polyfit(xs, ys, deg=1)\n",
    "    h = numpy.poly1d(coefficients) \n",
    "    hxs = h(xs)\n",
    "    return hxs\n",
    "\n",
    "\n",
    "def my_implementation(xs, ys, n):\n",
    "    def h(x, _t1, _t2):\n",
    "        return _t1 * x + _t2\n",
    "\n",
    "    def cf(t1, t2):\n",
    "        return (\n",
    "            (1 / (2 * n)) \n",
    "            * \n",
    "            sum(\n",
    "                [\n",
    "                    (h(xs[i], t1, t2) - ys[i]) ** 2\n",
    "                    for i in range(n)\n",
    "                ]\n",
    "            )\n",
    "        )\n",
    "    \n",
    "    t1_min = 0\n",
    "    t2_min = 0\n",
    "    t1_max = n\n",
    "    t2_max = n\n",
    "    t1s = numpy.arange(t1_min, t1_max)\n",
    "    t2s = numpy.arange(t2_min, t2_max)\n",
    "\n",
    "    vcf = numpy.vectorize(cf)\n",
    "    t12s, t21s = numpy.meshgrid(t1s, t2s)\n",
    "    square_errors = vcf(t12s, t21s)\n",
    "    \n",
    "    # I don’t yet know how to do it better ↓\n",
    "    least_t1 = None\n",
    "    least_t2 = None\n",
    "    least_square_error = None\n",
    "    for t1 in t1s:\n",
    "        for t2 in t2s:\n",
    "            square_error = square_errors[t2][t1]\n",
    "            if least_square_error is None or square_error < least_square_error:\n",
    "                least_square_error = square_error\n",
    "                least_t1 = t1\n",
    "                least_t2 = t2\n",
    "\n",
    "    #     pyplot.contour(t1s, t2s, square_errors, n)\n",
    "    #     pyplot.title('My cost function')\n",
    "    #     pyplot.show()\n",
    "\n",
    "    return [h(xs[i], least_t1, least_t2) for i in range(n)]\n",
    "\n",
    "\n",
    "if __name__ == '__main__':\n",
    "    n = 100\n",
    "    dispersion = 20\n",
    "\n",
    "    xs, ys = get_axes(n, dispersion)\n",
    "    \n",
    "    numpy_hx = numpy_implementation(xs, ys)\n",
    "    my_hx = my_implementation(xs, ys, n)\n",
    "\n",
    "    plot_axes(xs, ys, numpy_hx, '--r', 'Numpy implementation', 1) \n",
    "    plot_axes(xs, ys, my_hx, '--r', 'My implementation', 2)\n",
    "    pyplot.show()\n",
    "\n",
    "    "
   ]
  },
  {
   "cell_type": "code",
   "execution_count": null,
   "metadata": {},
   "outputs": [],
   "source": []
  },
  {
   "cell_type": "code",
   "execution_count": null,
   "metadata": {},
   "outputs": [],
   "source": []
  }
 ],
 "metadata": {
  "kernelspec": {
   "display_name": "Python 3",
   "language": "python",
   "name": "python3"
  },
  "language_info": {
   "codemirror_mode": {
    "name": "ipython",
    "version": 3
   },
   "file_extension": ".py",
   "mimetype": "text/x-python",
   "name": "python",
   "nbconvert_exporter": "python",
   "pygments_lexer": "ipython3",
   "version": "3.7.6"
  }
 },
 "nbformat": 4,
 "nbformat_minor": 4
}
